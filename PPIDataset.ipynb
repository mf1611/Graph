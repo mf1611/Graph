{
 "cells": [
  {
   "cell_type": "markdown",
   "metadata": {},
   "source": [
    " ## PPI_Dataset\n",
    " - The dataset contains 24 graphs. \n",
    " - The average number of nodes per graph is 2372. \n",
    " - Each node has 50 features and 121 labels."
   ]
  },
  {
   "cell_type": "code",
   "execution_count": 39,
   "metadata": {},
   "outputs": [],
   "source": [
    "import numpy as np\n",
    "import networkx as nx\n",
    "\n",
    "from sklearn.metrics import accuracy_score\n",
    "\n",
    "import torch\n",
    "import torch.nn as nn\n",
    "import torch.nn.functional as F\n",
    "import torch.optim as optim\n",
    "from torch.utils.data import DataLoader\n",
    "\n",
    "import dgl\n",
    "import dgl.function as fn\n",
    "from dgl import DGLGraph\n",
    "from dgl.data.ppi import PPIDataset"
   ]
  },
  {
   "cell_type": "code",
   "execution_count": 2,
   "metadata": {},
   "outputs": [
    {
     "name": "stdout",
     "output_type": "stream",
     "text": [
      "Loading G...\n"
     ]
    }
   ],
   "source": [
    "train_dataset = PPIDataset(mode='train')"
   ]
  },
  {
   "cell_type": "code",
   "execution_count": 3,
   "metadata": {},
   "outputs": [
    {
     "data": {
      "text/plain": [
       "<dgl.data.ppi.PPIDataset at 0x1109b0b38>"
      ]
     },
     "execution_count": 3,
     "metadata": {},
     "output_type": "execute_result"
    }
   ],
   "source": [
    "train_dataset"
   ]
  },
  {
   "cell_type": "code",
   "execution_count": 4,
   "metadata": {},
   "outputs": [
    {
     "name": "stdout",
     "output_type": "stream",
     "text": [
      "DGLGraph(num_nodes=44906, num_edges=1271274,\n",
      "         ndata_schemes={}\n",
      "         edata_schemes={})\n"
     ]
    }
   ],
   "source": [
    "g = train_dataset.graph\n",
    "print(g)"
   ]
  },
  {
   "cell_type": "code",
   "execution_count": 5,
   "metadata": {},
   "outputs": [
    {
     "data": {
      "text/plain": [
       "tensor([    0,     1,     2,  ..., 44903, 44904, 44905])"
      ]
     },
     "execution_count": 5,
     "metadata": {},
     "output_type": "execute_result"
    }
   ],
   "source": [
    "g.nodes()"
   ]
  },
  {
   "cell_type": "code",
   "execution_count": 6,
   "metadata": {},
   "outputs": [
    {
     "data": {
      "text/plain": [
       "(tensor([    0,     0,     0,  ..., 44905, 44905, 44905]),\n",
       " tensor([  372,  1101,   766,  ..., 44608, 44831, 44905]))"
      ]
     },
     "execution_count": 6,
     "metadata": {},
     "output_type": "execute_result"
    }
   ],
   "source": [
    "g.edges()  # tuple"
   ]
  },
  {
   "cell_type": "code",
   "execution_count": 7,
   "metadata": {},
   "outputs": [
    {
     "name": "stdout",
     "output_type": "stream",
     "text": [
      "(44906, 121)\n"
     ]
    },
    {
     "data": {
      "text/plain": [
       "array([[1, 0, 0, ..., 1, 1, 0],\n",
       "       [1, 0, 0, ..., 1, 1, 1],\n",
       "       [1, 1, 1, ..., 0, 0, 0],\n",
       "       ...,\n",
       "       [1, 1, 0, ..., 1, 1, 0],\n",
       "       [1, 0, 0, ..., 1, 1, 1],\n",
       "       [1, 1, 0, ..., 1, 1, 0]])"
      ]
     },
     "execution_count": 7,
     "metadata": {},
     "output_type": "execute_result"
    }
   ],
   "source": [
    "labels = train_dataset.labels\n",
    "print(labels.shape)\n",
    "labels"
   ]
  },
  {
   "cell_type": "code",
   "execution_count": 8,
   "metadata": {},
   "outputs": [
    {
     "data": {
      "text/plain": [
       "37.199839665078166"
      ]
     },
     "execution_count": 8,
     "metadata": {},
     "output_type": "execute_result"
    }
   ],
   "source": [
    "labels.sum(axis=1).mean()  # 1ノードあたり平均して持つラベル数"
   ]
  },
  {
   "cell_type": "code",
   "execution_count": 9,
   "metadata": {},
   "outputs": [
    {
     "name": "stdout",
     "output_type": "stream",
     "text": [
      "(44906, 50)\n"
     ]
    },
    {
     "data": {
      "text/plain": [
       "array([[-0.0855143 , -0.08837446, -0.11277995, ..., -0.1398976 ,\n",
       "        -0.14936616, -0.14811485],\n",
       "       [-0.0855143 , -0.08837446, -0.11277995, ..., -0.1398976 ,\n",
       "        -0.14936616, -0.14811485],\n",
       "       [-0.0855143 , -0.08837446, -0.11277995, ..., -0.1398976 ,\n",
       "        -0.14936616, -0.14811485],\n",
       "       ...,\n",
       "       [-0.0855143 , -0.08837446, -0.11277995, ..., -0.1398976 ,\n",
       "        -0.14936616, -0.14811485],\n",
       "       [-0.0855143 , -0.08837446, -0.11277995, ..., -0.1398976 ,\n",
       "        -0.14936616, -0.14811485],\n",
       "       [-0.0855143 , -0.08837446, -0.11277995, ..., -0.1398976 ,\n",
       "        -0.14936616, -0.14811485]])"
      ]
     },
     "execution_count": 9,
     "metadata": {},
     "output_type": "execute_result"
    }
   ],
   "source": [
    "features = train_dataset.features\n",
    "print(features.shape)\n",
    "features"
   ]
  },
  {
   "cell_type": "code",
   "execution_count": 10,
   "metadata": {},
   "outputs": [
    {
     "name": "stdout",
     "output_type": "stream",
     "text": [
      "[ 1  1  1 ... 20 20 20]\n"
     ]
    },
    {
     "data": {
      "text/plain": [
       "array([ 1,  1,  1, ..., 20, 20, 20])"
      ]
     },
     "execution_count": 10,
     "metadata": {},
     "output_type": "execute_result"
    }
   ],
   "source": [
    "graph_id = train_dataset.graph_id\n",
    "print(graph_id)\n",
    "graph_id"
   ]
  },
  {
   "cell_type": "markdown",
   "metadata": {},
   "source": [
    "## 20個のグラフに分割"
   ]
  },
  {
   "cell_type": "code",
   "execution_count": 11,
   "metadata": {},
   "outputs": [
    {
     "data": {
      "text/plain": [
       "array([ 1,  1,  1, ..., 20, 20, 20])"
      ]
     },
     "execution_count": 11,
     "metadata": {},
     "output_type": "execute_result"
    }
   ],
   "source": [
    "graph_id"
   ]
  },
  {
   "cell_type": "code",
   "execution_count": 12,
   "metadata": {},
   "outputs": [
    {
     "name": "stdout",
     "output_type": "stream",
     "text": [
      "(array([   0,    1,    2, ..., 1764, 1765, 1766]),)\n"
     ]
    }
   ],
   "source": [
    "print(np.where(graph_id==1))  # 条件を満たすindexだけ取得，注意として要素１のtupleとなっている"
   ]
  },
  {
   "cell_type": "code",
   "execution_count": 13,
   "metadata": {},
   "outputs": [
    {
     "data": {
      "text/plain": [
       "DGLGraph(num_nodes=1767, num_edges=34085,\n",
       "         ndata_schemes={}\n",
       "         edata_schemes={})"
      ]
     },
     "execution_count": 13,
     "metadata": {},
     "output_type": "execute_result"
    }
   ],
   "source": [
    "# graph_id==1のグラフ\n",
    "g.subgraph(np.where(graph_id==1)[0])"
   ]
  },
  {
   "cell_type": "code",
   "execution_count": 14,
   "metadata": {},
   "outputs": [
    {
     "data": {
      "text/plain": [
       "(1767, 50)"
      ]
     },
     "execution_count": 14,
     "metadata": {},
     "output_type": "execute_result"
    }
   ],
   "source": [
    "# graph_id==1の特徴量\n",
    "# 行でスライス\n",
    "features[np.where(graph_id==1)[0], :].shape"
   ]
  },
  {
   "cell_type": "code",
   "execution_count": 15,
   "metadata": {},
   "outputs": [
    {
     "data": {
      "text/plain": [
       "(1767, 121)"
      ]
     },
     "execution_count": 15,
     "metadata": {},
     "output_type": "execute_result"
    }
   ],
   "source": [
    "# graph_id==1のラベル\n",
    "# 行でスライス\n",
    "labels[np.where(graph_id==1)[0], :].shape"
   ]
  },
  {
   "cell_type": "code",
   "execution_count": 16,
   "metadata": {},
   "outputs": [],
   "source": [
    "# 20個のDGLGraphを，listに格納\n",
    "graph_list = []\n",
    "for id in np.unique(graph_id):\n",
    "    g_tmp = g.subgraph(np.where(graph_id==id)[0])\n",
    "    g_tmp.ndata['feature'] = features[np.where(graph_id==id)[0], :]\n",
    "    g_tmp.ndata['label'] = labels[np.where(graph_id==id)[0], :]\n",
    "    graph_list.append(g_tmp)"
   ]
  },
  {
   "cell_type": "code",
   "execution_count": 17,
   "metadata": {},
   "outputs": [
    {
     "data": {
      "text/plain": [
       "DGLGraph(num_nodes=1377, num_edges=31081,\n",
       "         ndata_schemes={'feature': Scheme(shape=(50,), dtype=dtype('float64')), 'label': Scheme(shape=(121,), dtype=dtype('int64'))}\n",
       "         edata_schemes={})"
      ]
     },
     "execution_count": 17,
     "metadata": {},
     "output_type": "execute_result"
    }
   ],
   "source": [
    "graph_list[1]"
   ]
  },
  {
   "cell_type": "code",
   "execution_count": 18,
   "metadata": {},
   "outputs": [
    {
     "data": {
      "text/plain": [
       "array([[-0.0855143 , -0.08837446, -0.11277995, ..., -0.1398976 ,\n",
       "        -0.14936616, -0.14811485],\n",
       "       [-0.0855143 , -0.08837446, -0.11277995, ..., -0.1398976 ,\n",
       "        -0.14936616, -0.14811485],\n",
       "       [-0.0855143 , -0.08837446, -0.11277995, ..., -0.1398976 ,\n",
       "        -0.14936616, -0.14811485],\n",
       "       ...,\n",
       "       [-0.0855143 , -0.08837446, -0.11277995, ..., -0.1398976 ,\n",
       "        -0.14936616, -0.14811485],\n",
       "       [-0.0855143 , -0.08837446, -0.11277995, ..., -0.1398976 ,\n",
       "        -0.14936616, -0.14811485],\n",
       "       [-0.0855143 , -0.08837446, -0.11277995, ..., -0.1398976 ,\n",
       "        -0.14936616, -0.14811485]])"
      ]
     },
     "execution_count": 18,
     "metadata": {},
     "output_type": "execute_result"
    }
   ],
   "source": [
    "graph_list[1].ndata['feature']"
   ]
  },
  {
   "cell_type": "code",
   "execution_count": 19,
   "metadata": {},
   "outputs": [
    {
     "data": {
      "text/plain": [
       "array([[1, 0, 0, ..., 1, 1, 0],\n",
       "       [1, 0, 0, ..., 1, 1, 1],\n",
       "       [1, 0, 0, ..., 1, 0, 0],\n",
       "       ...,\n",
       "       [1, 0, 0, ..., 1, 1, 0],\n",
       "       [1, 0, 0, ..., 1, 1, 1],\n",
       "       [1, 1, 0, ..., 1, 1, 0]])"
      ]
     },
     "execution_count": 19,
     "metadata": {},
     "output_type": "execute_result"
    }
   ],
   "source": [
    "graph_list[1].ndata['label']"
   ]
  }
 ],
 "metadata": {
  "kernelspec": {
   "display_name": "Python 3",
   "language": "python",
   "name": "python3"
  },
  "language_info": {
   "codemirror_mode": {
    "name": "ipython",
    "version": 3
   },
   "file_extension": ".py",
   "mimetype": "text/x-python",
   "name": "python",
   "nbconvert_exporter": "python",
   "pygments_lexer": "ipython3",
   "version": "3.6.5"
  }
 },
 "nbformat": 4,
 "nbformat_minor": 2
}
