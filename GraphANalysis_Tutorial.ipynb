{
 "cells": [
  {
   "cell_type": "markdown",
   "metadata": {},
   "source": [
    "<div style=\"color:white; background-color:#002B62;font-size:20px;padding:7px\">グラフデータ分析チュートリアル</div>"
   ]
  },
  {
   "cell_type": "markdown",
   "metadata": {},
   "source": [
    "○代表的な分析手法：<br>\n",
    "・コミュニティ検出<br>\n",
    "・リンク予測<br>\n",
    "・重要度指標計算<br>\n",
    "・ラベル伝搬<br>\n",
    "<br>\n",
    "○近年流行りの手法：<br>\n",
    "・グラフエンベディング<br>\n",
    "・グラフニューラルネットワーク（pptによる解説のみ）<br>\n",
    "<br>\n",
    " について学びます。<br>\n",
    "<br>"
   ]
  },
  {
   "cell_type": "markdown",
   "metadata": {},
   "source": [
    "<div style=\"color:white; background-color:#002B62;font-size:20px;padding:7px\">目次</div>"
   ]
  },
  {
   "cell_type": "markdown",
   "metadata": {},
   "source": [
    "<div style=\"color:white; background-color:#002B62;font-size:20px;padding:7px\">１．グラフデータ</div>"
   ]
  },
  {
   "cell_type": "markdown",
   "metadata": {},
   "source": [
    "今回は、グラフ分析ライブラリ「NetworkX」を主に用いる"
   ]
  },
  {
   "cell_type": "code",
   "execution_count": null,
   "metadata": {},
   "outputs": [],
   "source": [
    "import networkx as nx\n",
    "\n",
    "import os\n",
    "import random\n",
    "import pandas as pd\n",
    "import numpy as np\n",
    "import matplotlib.pyplot as plt"
   ]
  },
  {
   "cell_type": "markdown",
   "metadata": {},
   "source": [
    "今回は、視覚的に分かりやすくするため、「日本の都道府県のつながりを表すグラフデータ」を利用する<br>\n",
    "- 基本的には、2つが隣接する場合に、エッジ（リンク）を持つとする<br>\n",
    "    ※ ただし、一部例外はある（例えば、北海道と青森県、鹿児島県と沖縄県がつながるとするなど）"
   ]
  },
  {
   "cell_type": "markdown",
   "metadata": {},
   "source": [
    "用意していたデータの中身をまず見てみる<br>\n",
    "今回は、csvとして用意しており、まずpandasでcsvの中身を見てみる"
   ]
  },
  {
   "cell_type": "code",
   "execution_count": null,
   "metadata": {},
   "outputs": [],
   "source": [
    "file_path = './input/prefectures/prefectures_edgelist_en.csv'\n",
    "df = pd.read_csv(file_path, header=None)\n",
    "df.head(10)"
   ]
  },
  {
   "cell_type": "markdown",
   "metadata": {},
   "source": [
    "- 1列目に、エッジの根本となるノード\n",
    "- 2列目に、エッジの先にあるノード\n",
    "\n",
    "が格納されたデータになっている\n",
    "<br>\n",
    "- 向き付けがないので、逆向きの関係性も含めて上記のデータに格納\n",
    "- 重みづけがないので、3列目はない"
   ]
  },
  {
   "cell_type": "markdown",
   "metadata": {},
   "source": [
    "上記のようなデータを、「NetworkX」でグラフ形式として読み込む"
   ]
  },
  {
   "cell_type": "code",
   "execution_count": null,
   "metadata": {},
   "outputs": [],
   "source": [
    "G = nx.read_edgelist(file_path, delimiter=',', nodetype=str, create_using=nx.Graph(), encoding='UTF-8')"
   ]
  },
  {
   "cell_type": "code",
   "execution_count": null,
   "metadata": {},
   "outputs": [],
   "source": [
    "# networkxのGraphオブジェクトとなっていることを確認\n",
    "G"
   ]
  },
  {
   "cell_type": "code",
   "execution_count": null,
   "metadata": {},
   "outputs": [],
   "source": [
    "# グラフの内容を表示\n",
    "print(nx.info(G))"
   ]
  },
  {
   "cell_type": "code",
   "execution_count": null,
   "metadata": {},
   "outputs": [],
   "source": [
    "# ノードの中身\n",
    "G.nodes()"
   ]
  },
  {
   "cell_type": "code",
   "execution_count": null,
   "metadata": {},
   "outputs": [],
   "source": [
    "# エッジの中身\n",
    "G.edges()"
   ]
  },
  {
   "cell_type": "markdown",
   "metadata": {},
   "source": [
    "図としてプロットしてみる"
   ]
  },
  {
   "cell_type": "code",
   "execution_count": null,
   "metadata": {},
   "outputs": [],
   "source": [
    "plt.figure(figsize=(15,15))\n",
    "pos = nx.spring_layout(G, k=0.3, seed=13)  # グラフ可視化のレイアウトの指定\n",
    "nx.draw_networkx(G, pos, node_size=1000, node_color='#d6fada', random_state=42)\n",
    "plt.show()"
   ]
  },
  {
   "cell_type": "markdown",
   "metadata": {},
   "source": [
    "上記のように、北海道や関東、関西、九州、沖縄といったように、日本地図を表す形になっていることが分かる"
   ]
  },
  {
   "cell_type": "markdown",
   "metadata": {},
   "source": [
    "<div style=\"color:black; background-color:#E9EBFB;font-size:px;padding:9px\">補足</div>"
   ]
  },
  {
   "cell_type": "markdown",
   "metadata": {},
   "source": [
    "今回は、グラフレイアウトとして、spring_layoutを用いているが、他にも描画のレイアウトはある<br>\n",
    "詳細は、下記のGraph Layoutの部分を参照：<br>\n",
    "https://networkx.github.io/documentation/stable/reference/drawing.html"
   ]
  },
  {
   "cell_type": "markdown",
   "metadata": {},
   "source": [
    "重みありのグラフの読み込む場合は、\n",
    "- nx.read_weighted_edgelist() を用いる"
   ]
  },
  {
   "cell_type": "markdown",
   "metadata": {},
   "source": [
    "有向グラフを読み込む場合は、\n",
    "- 引数として、create_using=nx.DiGraph() を指定する"
   ]
  },
  {
   "cell_type": "markdown",
   "metadata": {},
   "source": [
    "<div style=\"color:white; background-color:#002B62;font-size:20px;padding:7px\">２－１．コミュニティ検出（クラスタリング）</div>"
   ]
  },
  {
   "cell_type": "markdown",
   "metadata": {},
   "source": [
    "### モジュラリティクラスタリング\n",
    "- モジュラリティと呼ばれるコミュニティ分割の良さを表す指標が最大になるように分割を行う"
   ]
  },
  {
   "cell_type": "code",
   "execution_count": null,
   "metadata": {
    "scrolled": false
   },
   "outputs": [],
   "source": [
    "from networkx.algorithms.community import greedy_modularity_communities\n",
    "\n",
    "community = greedy_modularity_communities(G)\n",
    "community"
   ]
  },
  {
   "cell_type": "markdown",
   "metadata": {},
   "source": [
    "上記のように、各ノードがコミュニティ（frozenset）に分割される <br>"
   ]
  },
  {
   "cell_type": "markdown",
   "metadata": {},
   "source": [
    "上記のコミュニティごとに、ノードを色分けして表示させてみる"
   ]
  },
  {
   "cell_type": "code",
   "execution_count": null,
   "metadata": {
    "scrolled": true
   },
   "outputs": [],
   "source": [
    "# 色分けの指定\n",
    "colors = ['red', 'blue', 'green','purple', 'yellow']\n",
    "cmap_commnity = {}\n",
    "counter = 0\n",
    "for i, c in enumerate(community):\n",
    "    for n in c:\n",
    "        cmap_commnity[n] = colors[i]\n",
    "\n",
    "cmap_commnity = {n: cmap_commnity[n] for n in list(G.nodes)}  # keyをGに格納されているノードの順序に並び替え\n",
    "cmap_commnity"
   ]
  },
  {
   "cell_type": "code",
   "execution_count": null,
   "metadata": {},
   "outputs": [],
   "source": [
    "plt.figure(figsize=(15,15))\n",
    "nx.draw_networkx(G, pos, node_color=cmap_commnity.values(), node_size=1000, random_state=42)\n",
    "plt.show()"
   ]
  },
  {
   "cell_type": "markdown",
   "metadata": {},
   "source": [
    "モジュラリティという指標においては、日本全体がこのように5つに分割されることが分かる。"
   ]
  },
  {
   "cell_type": "markdown",
   "metadata": {},
   "source": [
    "<div style=\"color:white; background-color:#002B62;font-size:20px;padding:7px\">２－２．リンク予測</div>"
   ]
  },
  {
   "cell_type": "markdown",
   "metadata": {},
   "source": [
    "仮に、日本の形状が変化するものとしてみて、その際にどの県とどの県がつながりやすいのか計算してみる <br>"
   ]
  },
  {
   "cell_type": "markdown",
   "metadata": {},
   "source": [
    "### 共通隣接ノード指標\n",
    "- 共通する友達が多いほど、二人は友達である可能性が高いとする指標\n",
    "- nx.common_neighbors(G, u, v)"
   ]
  },
  {
   "cell_type": "code",
   "execution_count": null,
   "metadata": {},
   "outputs": [],
   "source": [
    "CN = []\n",
    "num_nodes = G.number_of_nodes()\n",
    "for i in range(num_nodes):\n",
    "    for j in range(i+1, num_nodes):\n",
    "        u = list(G.nodes())[i]\n",
    "        v = list(G.nodes())[j]\n",
    "        if not G.has_edge(u, v):  # エッジを持たないノードペアに対して、それぞれ計算\n",
    "            CN.append(tuple([u, v, len(list(nx.common_neighbors(G, u, v)))]))\n",
    "\n",
    "# 指標が大きい順に並び替え\n",
    "CN = sorted(CN, key=lambda x: x[2], reverse=True)\n",
    "CN"
   ]
  },
  {
   "cell_type": "markdown",
   "metadata": {},
   "source": [
    "(福島, 埼玉)、(茨城, 群馬)、(岐阜, 京都)などがつながりやすいという結果が導かれる。"
   ]
  },
  {
   "cell_type": "markdown",
   "metadata": {},
   "source": [
    "### Jaccard係数\n",
    "- 共通する友達の割合が多いほど、二人は友達である可能性が高いとする指標\n",
    "- nx.jaccard_coefficient(G)"
   ]
  },
  {
   "cell_type": "code",
   "execution_count": null,
   "metadata": {},
   "outputs": [],
   "source": [
    "JC = list(nx.jaccard_coefficient(G))\n",
    "\n",
    "# 指標が大きい順に並び替え\n",
    "JC = sorted(JC, key=lambda x: x[2], reverse=True)\n",
    "JC"
   ]
  },
  {
   "cell_type": "markdown",
   "metadata": {},
   "source": [
    "(香川, 高知)がトップになっていることが分かる。それぞれの隣接県全体に対して共通する隣接県が多くなっているためだと考えられる。<br>\n",
    "一方で、先ほど上位にあった(福島, 埼玉)が、上位から姿を消していることが分かる。これは、2つの間で共通する隣接県は多いものの、埼玉県は隣接する県が多いため、全体の割合としては下がってしまい、Jaccard係数では順位が落ちてしまう結果になっていると考えられる。"
   ]
  },
  {
   "cell_type": "markdown",
   "metadata": {},
   "source": [
    "### Adamic/Adar指標\n",
    "- 共通の友達の中でも、特に、めったに友達を作らないような人の方が寄与が大きい（～貴重）と考えて、重みづけを考慮した指標\n",
    "- nx.adamic_adar_index(G)"
   ]
  },
  {
   "cell_type": "code",
   "execution_count": null,
   "metadata": {},
   "outputs": [],
   "source": [
    "AA = list(nx.adamic_adar_index(G))\n",
    "\n",
    "# 指標が大きい順に並び替え\n",
    "AA = sorted(AA, key=lambda x: x[2], reverse=True)\n",
    "AA"
   ]
  },
  {
   "cell_type": "markdown",
   "metadata": {},
   "source": [
    "(大阪, 三重)に関しては、共通する隣接県である和歌山や奈良が持つエッジ数が多くないため、上位に来ていると考えられる。<br>\n",
    "隣接県が多い長野県や埼玉県を、共通する隣接県として持つようなペアに関しては、特に順位が下がるような結果となっている。"
   ]
  },
  {
   "cell_type": "markdown",
   "metadata": {},
   "source": [
    "### 優先的選択指標\n",
    "- 共通であるかどうか関係なく、そもそも友達の数が多い人とは友達である可能性が高いとする指標\n",
    "- nx.preferential_attachment(G)"
   ]
  },
  {
   "cell_type": "code",
   "execution_count": null,
   "metadata": {},
   "outputs": [],
   "source": [
    "PA = list(nx.preferential_attachment(G))\n",
    "\n",
    "# 指標が大きい順に並び替え\n",
    "PA = sorted(PA, key=lambda x: x[2], reverse=True)\n",
    "PA"
   ]
  },
  {
   "cell_type": "markdown",
   "metadata": {},
   "source": [
    "結果としては、隣接県数が多い、岐阜県や埼玉県、長野県が上位にくるような結果となっている。"
   ]
  },
  {
   "cell_type": "markdown",
   "metadata": {},
   "source": [
    "<div style=\"color:white; background-color:#002B62;font-size:20px;padding:7px\">２－３．重要度指標</div>"
   ]
  },
  {
   "cell_type": "markdown",
   "metadata": {},
   "source": [
    "### ページランク\n",
    "- Googleによって提案されたウェブページのランキング指標\n",
    "- nx.pagerank(G)"
   ]
  },
  {
   "cell_type": "code",
   "execution_count": null,
   "metadata": {},
   "outputs": [],
   "source": [
    "pagerank = nx.pagerank(G)\n",
    "print(pagerank)"
   ]
  },
  {
   "cell_type": "code",
   "execution_count": null,
   "metadata": {
    "scrolled": false
   },
   "outputs": [],
   "source": [
    "# PageRankの大きさに応じて，　ノードの色を変えたグラフ\n",
    "plt.figure(figsize=(15,15))\n",
    "nx.draw_networkx(G, pos, node_size=1000, node_color=list(pagerank.values()), cmap=plt.cm.viridis, random_state=42)\n",
    "plt.show()"
   ]
  },
  {
   "cell_type": "markdown",
   "metadata": {},
   "source": [
    "色が明るいものほど値が大きくなるように表示。今回の場合、エッジ数が最も多い長野県が最も高くなっている。<br>\n",
    "今回は、向き付けなしのグラフで求めているため、ページランクの値は単純にエッジ数に応じたような値になってしまう。<br>\n",
    "ページランクの設計の仕方からも分かるように、ページランクが最も効果を発揮するのは、向き付けがあるようなグラフであることを補足しておく。"
   ]
  },
  {
   "cell_type": "markdown",
   "metadata": {},
   "source": [
    "### 近接中心性\n",
    "- グラフの中心にあるノードほど高くなるような指標\n",
    "- nx.closeness_centrality(G)"
   ]
  },
  {
   "cell_type": "code",
   "execution_count": null,
   "metadata": {},
   "outputs": [],
   "source": [
    "closeness_centrality = nx.closeness_centrality(G)\n",
    "print(closeness_centrality)"
   ]
  },
  {
   "cell_type": "code",
   "execution_count": null,
   "metadata": {},
   "outputs": [],
   "source": [
    "# 近接中心性の大きさに応じて，ノードの色を変えたグラフ\n",
    "plt.figure(figsize=(15,15))\n",
    "nx.draw_networkx(G, pos, node_size=1000, node_color=list(closeness_centrality.values()), cmap=plt.cm.viridis, random_state=42)\n",
    "plt.show()"
   ]
  },
  {
   "cell_type": "markdown",
   "metadata": {},
   "source": [
    "三重や京都など、日本の中心にあるような県ほど高い値になっていることが分かる。"
   ]
  },
  {
   "cell_type": "markdown",
   "metadata": {},
   "source": [
    "### 媒介中心性\n",
    "- ハブとなるようなノードほど高くなるような指標\n",
    "- nx.betweenness_centrality(G)"
   ]
  },
  {
   "cell_type": "code",
   "execution_count": null,
   "metadata": {},
   "outputs": [],
   "source": [
    "betweenness_centrality = nx.betweenness_centrality(G)\n",
    "print(betweenness_centrality)"
   ]
  },
  {
   "cell_type": "code",
   "execution_count": null,
   "metadata": {
    "scrolled": false
   },
   "outputs": [],
   "source": [
    "# 媒介中心性の大きさに応じて，　ノードの色を変えたグラフ\n",
    "plt.figure(figsize=(15,15))\n",
    "nx.draw_networkx(G, pos, node_size=1000, node_color=list(betweenness_centrality.values()), cmap=plt.cm.viridis, random_state=42)\n",
    "plt.show()"
   ]
  },
  {
   "cell_type": "markdown",
   "metadata": {},
   "source": [
    "兵庫県が最も高い値になっていることが分かる。兵庫県を通らないと、北と南で行き来が出来なくなる県が多く存在するからだと考えられる。"
   ]
  },
  {
   "cell_type": "markdown",
   "metadata": {},
   "source": [
    "<div style=\"color:white; background-color:#002B62;font-size:20px;padding:7px\">２－４．ラベル伝搬</div>"
   ]
  },
  {
   "cell_type": "markdown",
   "metadata": {},
   "source": [
    "- ここでは、各都道府県に、ラベルとして地方名を与える（8地方）\n",
    "- グラフデータから、地方名が分からないデータのラベルを予測する問題を考える"
   ]
  },
  {
   "cell_type": "markdown",
   "metadata": {},
   "source": [
    "各県に地方名が割り振られたデータを用意しておいたので、pandasで読み込む"
   ]
  },
  {
   "cell_type": "code",
   "execution_count": null,
   "metadata": {
    "scrolled": true
   },
   "outputs": [],
   "source": [
    "area_df = pd.read_csv('./input/prefectures/prefectures_area_en.csv') \n",
    "area_df"
   ]
  },
  {
   "cell_type": "markdown",
   "metadata": {},
   "source": [
    "NetworkXのグラフの中のノードに、地方名をラベル情報として持たせることを考える。<br>\n",
    "NetworkXのグラフオブジェクトは、ノードごとに辞書形式で属性情報を持たせることが出来る。<br>\n",
    "例えば、北海道のノードの属性情報を見てみると、"
   ]
  },
  {
   "cell_type": "code",
   "execution_count": null,
   "metadata": {},
   "outputs": [],
   "source": [
    "G.node['Hokkaido']"
   ]
  },
  {
   "cell_type": "markdown",
   "metadata": {},
   "source": [
    "今はまだ何も入れていないので空になっている"
   ]
  },
  {
   "cell_type": "markdown",
   "metadata": {},
   "source": [
    "ここに、今予測対象とするいくつかの県だけ除いて、地方名をラベルとして入れてみる。"
   ]
  },
  {
   "cell_type": "code",
   "execution_count": null,
   "metadata": {
    "scrolled": true
   },
   "outputs": [],
   "source": [
    "targets = ['Niigata', 'Tokyo', 'Oita']  # 予測する対象の県は除いて、ラベル情報を格納する\n",
    "for pref in list(G.nodes()):\n",
    "    if pref not in targets:\n",
    "        G.node[pref]['label'] = area_df.loc[area_df.prefecture==pref, 'area'].values[0]"
   ]
  },
  {
   "cell_type": "markdown",
   "metadata": {},
   "source": [
    "実際に、いくつかのノードで属性情報を確認してみる"
   ]
  },
  {
   "cell_type": "code",
   "execution_count": null,
   "metadata": {},
   "outputs": [],
   "source": [
    "print(G.node['Hokkaido'])\n",
    "print(G.node['Kanagawa'])"
   ]
  },
  {
   "cell_type": "markdown",
   "metadata": {},
   "source": [
    "例えば、先ほど空であった北海道ノードは、地方ラベルを持っていることが分かる<br>"
   ]
  },
  {
   "cell_type": "markdown",
   "metadata": {},
   "source": [
    "予測対象としたラベルを、ラベル伝搬を用いて予測する"
   ]
  },
  {
   "cell_type": "code",
   "execution_count": null,
   "metadata": {},
   "outputs": [],
   "source": [
    "from networkx.algorithms import node_classification\n",
    "pred = node_classification.local_and_global_consistency(G, label_name='label')\n",
    "\n",
    "for n, p in zip(list(G.nodes()), pred): # 予測結果を、'pred'というkey名で属性情報に加える\n",
    "    G.node[n]['pred'] = p"
   ]
  },
  {
   "cell_type": "markdown",
   "metadata": {},
   "source": [
    "今予測した結果を表示させる"
   ]
  },
  {
   "cell_type": "code",
   "execution_count": null,
   "metadata": {},
   "outputs": [],
   "source": [
    "for t in targets:\n",
    "    print('%s'%t, G.node[t])"
   ]
  },
  {
   "cell_type": "markdown",
   "metadata": {},
   "source": [
    "ラベル伝搬による予測結果が当たっていることが分かる"
   ]
  },
  {
   "cell_type": "markdown",
   "metadata": {},
   "source": [
    "<div style=\"color:white; background-color:#002B62;font-size:20px;padding:7px\">３－１．グラフエンベディング</div>"
   ]
  },
  {
   "cell_type": "markdown",
   "metadata": {},
   "source": [
    "ここでは、グラフエンベディングを行うことで、各都道府県のノードを数値ベクトルに変換し、そのベクトル表現を用いて、ノードのクラスタリングを行う\n",
    "\n",
   ]
  },
  {
   "cell_type": "markdown",
   "metadata": {},
   "source": [
    "グラフ上で、ランダムウォークする関数を作成"
   ]
  },
  {
   "cell_type": "code",
   "execution_count": null,
   "metadata": {},
   "outputs": [],
   "source": [
    "import random\n",
    "random.seed(0)\n",
    "\n",
    "def make_random_walks(G, length_of_walk, num_of_walk):\n",
    "    \"\"\"\n",
    "    各ノードをスタート地点として、ランダムウォークを行う。\n",
    "    全てのノードに対して、1回ずつウォークすることを1セットとする。\n",
    "　    - length_of_walk: 1つのランダムウォークの長さ\n",
    "  　  - num_of_walk: ランダムウォークを何セット行うかの回数\n",
    "    \"\"\"\n",
    "    walks = list()\n",
    "    for i in range(num_of_walk):\n",
    "        node_list = list(G.nodes())\n",
    "        for node in node_list:\n",
    "            now_node = node\n",
    "            walk = list()\n",
    "            walk.append(str(node))\n",
    "            for j in range(length_of_walk):\n",
    "                next_node = random.choice(list(G.neighbors(now_node)))\n",
    "                walk.append(str(next_node))\n",
    "                now_node = next_node\n",
    "            walks.append(walk)\n",
    "    return walks"
   ]
  },
  {
   "cell_type": "markdown",
   "metadata": {},
   "source": [
    "ランダムウォークを実施"
   ]
  },
  {
   "cell_type": "code",
   "execution_count": null,
   "metadata": {
    "scrolled": true
   },
   "outputs": [],
   "source": [
    "walks = make_random_walks(G, length_of_walk=4, num_of_walk=10)\n",
    "walks"
   ]
  },
  {
   "cell_type": "markdown",
   "metadata": {},
   "source": [
    "ランダムウォークで得られた「ノードの系列データ」に対して、word2vecを適用\n",
    "- word2vecは、gensimというライブラリを利用\n",
    "    - https://radimrehurek.com/gensim/models/word2vec.html\n",
    "    - ウェビナー第１回「単語の味を異種混合学習技術で予測してみよう」の資料も参照\n",
    "\n",
    "\n",
    "- 今回は、5次元の数値ベクトルとして学習"
   ]
  },
  {
   "cell_type": "code",
   "execution_count": null,
   "metadata": {},
   "outputs": [],
   "source": [
    "import gensim\n",
    "from gensim.models import word2vec\n",
    "\n",
    "model = word2vec.Word2Vec(walks, size=5, min_count=1, window=5, iter=100)"
   ]
  },
  {
   "cell_type": "markdown",
   "metadata": {},
   "source": [
    "これによって、各ノードが5次元の数値ベクトルとして表現される<br>\n",
    "作成したモデルに対して、例えば新潟県と類似度が高い県を表示させてみる"
   ]
  },
  {
   "cell_type": "code",
   "execution_count": null,
   "metadata": {
    "scrolled": true
   },
   "outputs": [],
   "source": [
    "model.wv.most_similar('Niigata', topn=46)"
   ]
  },
  {
   "cell_type": "markdown",
   "metadata": {},
   "source": [
    "作成したモデルの結果を、データフレームに格納する\n",
    "- 各都道府県をindex, 得られたベクトルの各次元をカラムとするデータフレーム\n",
    "- 他の機械学習モデルで応用する際も、このような形に変換して、モデルに入力すればよい"
   ]
  },
  {
   "cell_type": "code",
   "execution_count": null,
   "metadata": {
    "scrolled": true
   },
   "outputs": [],
   "source": [
    "embedding_vectors = []\n",
    "for word in model.wv.vocab:\n",
    "    embedding_vectors.append([word] + list(model.wv[word]))\n",
    "\n",
    "df_embedding_vectors = pd.DataFrame(embedding_vectors)\n",
    "df_embedding_vectors.columns = ['id'] + [\"ev{0}\".format(i+1) for i in range(len(embedding_vectors[0])-1)]\n",
    "df_embedding_vectors = df_embedding_vectors.set_index('id')\n",
    "df_embedding_vectors"
   ]
  },
  {
   "cell_type": "markdown",
   "metadata": {},
   "source": [
    "#### k-meansクラスタリングで、5クラスにクラスタリング\n",
    "- k-meansには、scikit-learnを用いる"
   ]
  },
  {
   "cell_type": "code",
   "execution_count": null,
   "metadata": {
    "scrolled": true
   },
   "outputs": [],
   "source": [
    "from sklearn.cluster import KMeans\n",
    "km = KMeans(n_clusters=5, random_state=11)\n",
    "km.fit(df_embedding_vectors)"
   ]
  },
  {
   "cell_type": "markdown",
   "metadata": {},
   "source": [
    "k-meansクラスタリングの結果を、ノードごとに色分けして可視化"
   ]
  },
  {
   "cell_type": "code",
   "execution_count": null,
   "metadata": {},
   "outputs": [],
   "source": [
    "# ノードごとにラベルを割り振った辞書を作成\n",
    "node_label_dict = {}\n",
    "for node, label in zip(df_embedding_vectors.index, km.labels_):\n",
    "    node_label_dict[node] = label\n",
    "\n",
    "# Gが持っているノードの順番に辞書をソート\n",
    "node_label_dict = {n: node_label_dict[n] for n in list(G.nodes)}  # keyをGに格納されているノードの順序に並び替え"
   ]
  },
  {
   "cell_type": "code",
   "execution_count": null,
   "metadata": {},
   "outputs": [],
   "source": [
    "# ラベルごとに色を変えて可視化\n",
    "plt.figure(figsize=(15,15))\n",
    "nx.draw_networkx(G, pos, node_size=1000, node_color=list(node_label_dict.values()), random_state=42)\n",
    "plt.show()"
   ]
  },
  {
   "cell_type": "markdown",
   "metadata": {},
   "source": [
    "結果として、グラフ上の隣接関係が近くなるようにエンベディングが得られていることが分かる。<br>\n",
    "例えば、ランダムウォークを完全にランダムにしないで、遠方に行きやすいようにバイアスをかけるなどの操作をすることによって、隣接関係の近さでなく、構造的な役割としての近さをエンベディングとして得ることも可能である。"
   ]
  },
  {
   "cell_type": "markdown",
   "metadata": {},
   "source": [
    "<div style=\"color:white; background-color:#002B62;font-size:20px;padding:7px\">おしまい</div>"
   ]
  }
 ],
 "metadata": {
  "kernelspec": {
   "display_name": "Python 3",
   "language": "python",
   "name": "python3"
  },
  "language_info": {
   "codemirror_mode": {
    "name": "ipython",
    "version": 3
   },
   "file_extension": ".py",
   "mimetype": "text/x-python",
   "name": "python",
   "nbconvert_exporter": "python",
   "pygments_lexer": "ipython3",
   "version": "3.6.8"
  }
 },
 "nbformat": 4,
 "nbformat_minor": 2
}
